{
 "cells": [
  {
   "cell_type": "code",
   "execution_count": null,
   "id": "57ccdc95-2a26-4ac6-af43-07e489d34005",
   "metadata": {},
   "outputs": [],
   "source": [
    "\n",
    "\n"
   ]
  },
  {
   "cell_type": "code",
   "execution_count": null,
   "id": "d5c588ee-84fc-42d6-b5eb-51def7ef18fd",
   "metadata": {},
   "outputs": [],
   "source": []
  },
  {
   "cell_type": "code",
   "execution_count": null,
   "id": "731d2931-c451-4b30-94f5-52a31babcbb6",
   "metadata": {},
   "outputs": [],
   "source": []
  },
  {
   "cell_type": "code",
   "execution_count": 1,
   "id": "f29f814d-bb45-45ee-8f0c-057cf0227269",
   "metadata": {},
   "outputs": [
    {
     "name": "stdout",
     "output_type": "stream",
     "text": [
      "Nutritional Information for Apple:\n",
      "{'name': 'apple', 'fat_total_g': 0.2, 'fat_saturated_g': 0.0, 'sodium_mg': 1, 'potassium_mg': 11, 'cholesterol_mg': 0, 'carbohydrates_total_g': 14.1, 'fiber_g': 2.4, 'sugar_g': 10.3}\n"
     ]
    }
   ],
   "source": [
    "import requests\n",
    "\n",
    "class NutritionAPI:\n",
    "    def __init__(self, nut_api_key):\n",
    "        self.nut_api_key = nut_api_key\n",
    "\n",
    "    def get_nutritional_info(self, query: str) -> dict:\n",
    "        \"\"\"Fetches the nutritional information for a specific food item\n",
    "\n",
    "        :param query: The food item to get nutritional info for\n",
    "        :return: The filtered nutritional information of the food item\n",
    "        \"\"\"\n",
    "        base_url = 'https://nutrition-by-api-ninjas.p.rapidapi.com/v1/nutrition'\n",
    "        api_url = f'{base_url}?query={query}'\n",
    "        headers = {\n",
    "            'x-rapidapi-host': 'nutrition-by-api-ninjas.p.rapidapi.com',\n",
    "            'x-rapidapi-key': self.nut_api_key\n",
    "        }\n",
    "        \n",
    "        response = requests.get(api_url, headers=headers)\n",
    "\n",
    "        if response.status_code == requests.codes.ok:\n",
    "            return self.filter_nutrition_data(response.json())\n",
    "        else:\n",
    "            return {\"Error\": response.status_code, \"Message\": response.text}\n",
    "\n",
    "    def filter_nutrition_data(self, nutrition_data: list) -> list:\n",
    "        \"\"\"Filters out premium-only nutritional information\n",
    "\n",
    "        :param nutrition_data: List of nutritional information dicts\n",
    "        :return: Filtered list of nutritional information dicts\n",
    "        \"\"\"\n",
    "        filtered_data = []\n",
    "        for item in nutrition_data:\n",
    "            filtered_item = {}\n",
    "            filtered_item['name'] = item['name']\n",
    "            filtered_item['fat_total_g'] = item.get('fat_total_g', None)\n",
    "            filtered_item['fat_saturated_g'] = item.get('fat_saturated_g', None)\n",
    "            filtered_item['sodium_mg'] = item.get('sodium_mg', None)\n",
    "            filtered_item['potassium_mg'] = item.get('potassium_mg', None)\n",
    "            filtered_item['cholesterol_mg'] = item.get('cholesterol_mg', None)\n",
    "            filtered_item['carbohydrates_total_g'] = item.get('carbohydrates_total_g', None)\n",
    "            filtered_item['fiber_g'] = item.get('fiber_g', None)\n",
    "            filtered_item['sugar_g'] = item.get('sugar_g', None)\n",
    "            filtered_data.append(filtered_item)\n",
    "        \n",
    "        return filtered_data\n",
    "\n",
    "# Example usage\n",
    "nut_api_key = '013f9996d6mshce02980674b8574p16e5d1jsne655c82f3fde'  # Replace with your Nutrition API key\n",
    "nutrition_api = NutritionAPI(nut_api_key)\n",
    "\n",
    "# Get nutritional information for 'apple'\n",
    "food_item = 'apple'\n",
    "nutrition_info = nutrition_api.get_nutritional_info(food_item)\n",
    "\n",
    "# Print the filtered nutritional information\n",
    "print(f\"Nutritional Information for {food_item.capitalize()}:\")\n",
    "for item in nutrition_info:\n",
    "    print(item)\n"
   ]
  },
  {
   "cell_type": "code",
   "execution_count": 16,
   "id": "b7265b5b-c995-4ee2-8acf-e96c8d02a4c7",
   "metadata": {},
   "outputs": [],
   "source": [
    "def calculate_bmr(weight_kg, height_cm, age, gender):\n",
    "    \"\"\"\n",
    "    Function to calculate Basal Metabolic Rate (BMR) using Harris-Benedict Equation.\n",
    "    \n",
    "    Parameters:\n",
    "    - weight_kg (float): Weight in kilograms\n",
    "    - height_cm (float): Height in centimeters\n",
    "    - age (int): Age in years\n",
    "    - gender (str): Gender ('male' or 'female')\n",
    "    \n",
    "    Returns:\n",
    "    - float: Basal Metabolic Rate (BMR)\n",
    "    \"\"\"\n",
    "    if gender.lower() == 'male':\n",
    "        bmr = 88.362 + (13.397 * weight_kg) + (4.799 * height_cm) - (5.677 * age)\n",
    "    elif gender.lower() == 'female':\n",
    "        bmr = 447.593 + (9.247 * weight_kg) + (3.098 * height_cm) - (4.330 * age)\n",
    "    else:\n",
    "        bmr = 0\n",
    "    \n",
    "    return bmr\n",
    "\n"
   ]
  },
  {
   "cell_type": "code",
   "execution_count": 19,
   "id": "6d7ad27c-1037-45ea-b0b0-55ef28a7a421",
   "metadata": {},
   "outputs": [],
   "source": [
    "def calculate_tdee(bmr, activity_level):\n",
    "    \"\"\"\n",
    "    Function to calculate Total Daily Energy Expenditure (TDEE) based on activity level.\n",
    "    \n",
    "    Parameters:\n",
    "    - bmr (float): Basal Metabolic Rate (BMR)\n",
    "    - activity_level (float): Activity level multiplier (1.2 for sedentary, up to 1.9 for very active)\n",
    "    \n",
    "    Returns:\n",
    "    - float: Total Daily Energy Expenditure (TDEE)\n",
    "    \"\"\"\n",
    "    tdee = bmr * activity_level\n",
    "    return tdee\n",
    "\n"
   ]
  },
  {
   "cell_type": "code",
   "execution_count": 20,
   "id": "27c64704-dbfa-4d2b-864c-c6e0fa67c4d1",
   "metadata": {},
   "outputs": [],
   "source": [
    "def calculate_ibw(height: float, gender: str) -> float:\n",
    "    \"\"\"Calculates the Ideal Body Weight (IBW)\n",
    "\n",
    "    :param height: The height of the person in inches\n",
    "    :param gender: The gender of the person (\"male\" or \"female\")\n",
    "    :return: The Ideal Body Weight in kg\n",
    "    \"\"\"\n",
    "    if gender.lower() == 'male':\n",
    "        if height <= 60:  # 5 feet = 60 inches\n",
    "            return 50\n",
    "        else:\n",
    "            return 50 + 2.3 * (height - 60)\n",
    "    elif gender.lower() == 'female':\n",
    "        if height <= 60:\n",
    "            return 45.5\n",
    "        else:\n",
    "            return 45.5 + 2.3 * (height - 60)\n",
    "    else:\n",
    "        raise ValueError(\"Invalid gender. Expected 'male' or 'female'.\")"
   ]
  },
  {
   "cell_type": "code",
   "execution_count": 21,
   "id": "eab6ef69-6fd9-4dff-acf6-afbbdadfa4d8",
   "metadata": {},
   "outputs": [],
   "source": [
    "def calculate_bmi(weight: float, height: float) -> float:\n",
    "    \"\"\"Calculates the Body Mass Index (BMI) for a person\n",
    "\n",
    "    :param weight: The weight of the person in kg\n",
    "    :param height: The height of the person in cm\n",
    "    :return: The BMI of the person\n",
    "    \"\"\"\n",
    "    height_meters = height / 100  # convert cm to meters\n",
    "    bmi = weight / (height_meters ** 2)\n",
    "    return round(bmi, 2)  # round to 2 decimal places for readability"
   ]
  },
  {
   "cell_type": "code",
   "execution_count": 22,
   "id": "73764178-8e9c-4e09-acea-fc573a190b7d",
   "metadata": {},
   "outputs": [],
   "source": [
    "def calculate_calorie_intake(tdee, goal='maintenance'):\n",
    "    \"\"\"\n",
    "    Function to calculate daily calorie intake based on Total Daily Energy Expenditure (TDEE) and goal.\n",
    "    \n",
    "    Parameters:\n",
    "    - tdee (float): Total Daily Energy Expenditure (TDEE)\n",
    "    - goal (str): Goal type ('maintenance', 'weight_loss', 'muscle_gain')\n",
    "    \n",
    "    Returns:\n",
    "    - float: Daily calorie intake\n",
    "    \"\"\"\n",
    "    if goal == 'maintenance':\n",
    "        calorie_intake = tdee\n",
    "    elif goal == 'weight_loss':\n",
    "        calorie_intake = tdee - 500  # Example deficit for weight loss\n",
    "    elif goal == 'muscle_gain':\n",
    "        calorie_intake = tdee + 300  # Example surplus for muscle gain\n",
    "    else:\n",
    "        calorie_intake = 0\n",
    "    \n",
    "    return calorie_intake\n"
   ]
  },
  {
   "cell_type": "code",
   "execution_count": 23,
   "id": "ec21bdbb-69d0-40de-be86-f1b671eb8e3e",
   "metadata": {},
   "outputs": [],
   "source": [
    "def calculate_water_intake(weight_kg):\n",
    "    \"\"\"\n",
    "    Function to calculate recommended daily water intake.\n",
    "    \n",
    "    Parameters:\n",
    "    - weight_kg (float): Weight in kilograms\n",
    "    \n",
    "    Returns:\n",
    "    - float: Recommended daily water intake in liters\n",
    "    \"\"\"\n",
    "    water_intake = weight_kg * 0.033  # Example calculation\n",
    "    return water_intake\n"
   ]
  },
  {
   "cell_type": "code",
   "execution_count": 1,
   "id": "4453ce8a-fea9-4d76-ba8e-905dd4124d44",
   "metadata": {},
   "outputs": [
    {
     "name": "stdout",
     "output_type": "stream",
     "text": [
      "Welcome to the Fitness Advisor Chatbot! Type 'exit' or 'quit' to end the session.\n"
     ]
    },
    {
     "name": "stdin",
     "output_type": "stream",
     "text": [
      "User:  Hello\n"
     ]
    },
    {
     "name": "stdout",
     "output_type": "stream",
     "text": [
      "Fitness Advisor: Hello! How can I help you with your fitness today?\n",
      "\n"
     ]
    },
    {
     "name": "stdin",
     "output_type": "stream",
     "text": [
      "User:  Nutrition for apple\n"
     ]
    },
    {
     "name": "stdout",
     "output_type": "stream",
     "text": [
      "Fitness Advisor: Here is the nutritional information for Apple:\n",
      "Apple: Fat: 0.2g, Carbs: 14.1g, Protein: Only available for premium subscribers.g\n",
      "\n"
     ]
    },
    {
     "name": "stdin",
     "output_type": "stream",
     "text": [
      "Was this response helpful? (Y/N):  Y\n"
     ]
    },
    {
     "name": "stdout",
     "output_type": "stream",
     "text": [
      "Thank you for your feedback!\n",
      "\n"
     ]
    },
    {
     "name": "stdin",
     "output_type": "stream",
     "text": [
      "User:  Excercise recommendation\n"
     ]
    },
    {
     "name": "stdout",
     "output_type": "stream",
     "text": [
      "Fitness Advisor: I'm sorry, I didn't understand that. How can I assist you with your fitness today?\n"
     ]
    },
    {
     "name": "stdin",
     "output_type": "stream",
     "text": [
      "Was this response helpful? (Y/N):  n\n"
     ]
    },
    {
     "name": "stdout",
     "output_type": "stream",
     "text": [
      "We'll work on improving our responses. Thank you for letting us know.\n",
      "\n"
     ]
    },
    {
     "name": "stdin",
     "output_type": "stream",
     "text": [
      "User:  Exercise recommendation\n"
     ]
    },
    {
     "name": "stdout",
     "output_type": "stream",
     "text": [
      "Fitness Advisor: What type of exercise are you interested in? (Cardio, Strength training, Flexibility)\n"
     ]
    },
    {
     "name": "stdin",
     "output_type": "stream",
     "text": [
      "Was this response helpful? (Y/N):  y\n"
     ]
    },
    {
     "name": "stdout",
     "output_type": "stream",
     "text": [
      "Thank you for your feedback!\n",
      "\n"
     ]
    },
    {
     "name": "stdin",
     "output_type": "stream",
     "text": [
      "User:  Exercise for cardio \n"
     ]
    },
    {
     "name": "stdout",
     "output_type": "stream",
     "text": [
      "Fitness Advisor: Here are some exercises for cardio:\n",
      "Running, Cycling, Swimming\n",
      "\n"
     ]
    },
    {
     "name": "stdin",
     "output_type": "stream",
     "text": [
      "User:  exit\n"
     ]
    },
    {
     "name": "stdout",
     "output_type": "stream",
     "text": [
      "Fitness Advisor: Goodbye!\n"
     ]
    }
   ],
   "source": [
    "import requests\n",
    "\n",
    "class NutritionAPI:\n",
    "    def __init__(self, nut_api_key):\n",
    "        self.nut_api_key = nut_api_key\n",
    "\n",
    "    def get_nutritional_info(self, query: str) -> dict:\n",
    "        \"\"\"Fetches the nutritional information for a specific food item\n",
    "\n",
    "        :param query: The food item to get nutritional info for\n",
    "        :return: The filtered nutritional information of the food item\n",
    "        \"\"\"\n",
    "        base_url = 'https://nutrition-by-api-ninjas.p.rapidapi.com/v1/nutrition'\n",
    "        api_url = f'{base_url}?query={query}'\n",
    "        headers = {\n",
    "            'x-rapidapi-host': 'nutrition-by-api-ninjas.p.rapidapi.com',\n",
    "            'x-rapidapi-key': self.nut_api_key\n",
    "        }\n",
    "        \n",
    "        response = requests.get(api_url, headers=headers)\n",
    "\n",
    "        if response.status_code == requests.codes.ok:\n",
    "            return self.filter_nutrition_data(response.json())\n",
    "        else:\n",
    "            return {\"Error\": response.status_code, \"Message\": response.text}\n",
    "\n",
    "    def filter_nutrition_data(self, nutrition_data: list) -> list:\n",
    "        \"\"\"Filters out premium-only nutritional information\n",
    "\n",
    "        :param nutrition_data: List of nutritional information dicts\n",
    "        :return: Filtered list of nutritional information dicts\n",
    "        \"\"\"\n",
    "        filtered_data = []\n",
    "        for item in nutrition_data:\n",
    "            filtered_item = {}\n",
    "            filtered_item['name'] = item['name']\n",
    "            filtered_item['fat_total_g'] = item.get('fat_total_g', None)\n",
    "            filtered_item['fat_saturated_g'] = item.get('fat_saturated_g', None)\n",
    "            filtered_item['sodium_mg'] = item.get('sodium_mg', None)\n",
    "            filtered_item['potassium_mg'] = item.get('potassium_mg', None)\n",
    "            filtered_item['cholesterol_mg'] = item.get('cholesterol_mg', None)\n",
    "            filtered_item['carbohydrates_total_g'] = item.get('carbohydrates_total_g', None)\n",
    "            filtered_item['fiber_g'] = item.get('fiber_g', None)\n",
    "            filtered_item['sugar_g'] = item.get('sugar_g', None)\n",
    "            filtered_item['protein_g'] = item.get('protein_g', None)\n",
    "            filtered_data.append(filtered_item)\n",
    "        \n",
    "        return filtered_data\n",
    "\n",
    "class FitnessAdvisor:\n",
    "    def __init__(self, nut_api_key):\n",
    "        self.nutrition_api = NutritionAPI(nut_api_key)\n",
    "\n",
    "    def handle_query(self, query):\n",
    "        response = \"\"\n",
    "\n",
    "        query_lower = query.lower()\n",
    "        \n",
    "        if query_lower == \"hello\":\n",
    "            response = \"Hello! How can I help you with your fitness today?\"\n",
    "        elif query_lower == \"nutrition info\":\n",
    "            response = \"Sure, what food item would you like nutritional information for?\"\n",
    "        elif query_lower.startswith(\"nutrition for\"):\n",
    "            food_item = query_lower[13:].strip()  # Extract the food item from the query\n",
    "            nutrition_info = self.nutrition_api.get_nutritional_info(food_item)\n",
    "            response = f\"Here is the nutritional information for {food_item.capitalize()}:\\n\"\n",
    "            for item in nutrition_info:\n",
    "                response += f\"{item['name'].capitalize()}: \"\n",
    "                response += f\"Fat: {item['fat_total_g']}g, \"\n",
    "                response += f\"Carbs: {item['carbohydrates_total_g']}g, \"\n",
    "                response += f\"Protein: {item['protein_g']}g\\n\"\n",
    "        elif query_lower in [\"exercise recommendation\", \"exercise recommendations\"]:\n",
    "            response = \"What type of exercise are you interested in? (Cardio, Strength training, Flexibility)\"\n",
    "        elif query_lower.startswith(\"exercise for\") or query_lower in [\"cardio\", \"strength training\", \"flexibility\"]:\n",
    "            exercise_type = query_lower[12:].strip() if query_lower.startswith(\"exercise for\") else query_lower\n",
    "            response = self.get_exercise_recommendations(exercise_type)\n",
    "        elif query_lower in [\"body mass rate\", \"bmr\"]:\n",
    "            response = \"To calculate your Body Mass Rate (BMR), please provide your weight (kg), height (cm), age, and gender.\"\n",
    "        elif query_lower in [\"bmi\"]:\n",
    "            response = \"To calculate your BMI, please provide your weight (kg) and height (cm).\"\n",
    "        elif query_lower in [\"tdee\"]:\n",
    "            response = \"To calculate your TDEE, please provide your weight (kg), height (cm), age, gender, and activity level.\"\n",
    "        elif query_lower.startswith(\"calculate bmi\"):\n",
    "            try:\n",
    "                params = query_lower[len(\"calculate bmi\"):].strip().split()\n",
    "                weight, height = map(float, params)\n",
    "                bmi = self.calculate_bmi(weight, height)\n",
    "                response = f\"Your BMI is {bmi}.\"\n",
    "            except:\n",
    "                response = \"Please provide weight and height in the format: calculate BMI <weight_kg> <height_cm>.\"\n",
    "        elif query_lower.startswith(\"calculate tdee\"):\n",
    "            try:\n",
    "                params = query_lower[len(\"calculate tdee\"):].strip().split()\n",
    "                weight, height, age = map(float, params[:3])\n",
    "                gender = params[3]\n",
    "                activity_level = ' '.join(params[4:])\n",
    "                tdee = self.calculate_tdee(weight, height, age, gender, activity_level)\n",
    "                response = f\"Your TDEE is {tdee}.\"\n",
    "            except:\n",
    "                response = \"Please provide weight, height, age, gender, and activity level in the format: calculate TDEE <weight_kg> <height_cm> <age> <gender> <activity_level>.\"\n",
    "        else:\n",
    "            response = \"I'm sorry, I didn't understand that. How can I assist you with your fitness today?\"\n",
    "\n",
    "        return response\n",
    "\n",
    "    def get_exercise_recommendations(self, exercise_type):\n",
    "        exercises = {\n",
    "            \"cardio\": [\"Running\", \"Cycling\", \"Swimming\"],\n",
    "            \"strength training\": [\"Weight lifting\", \"Resistance band exercises\", \"Bodyweight exercises\"],\n",
    "            \"flexibility\": [\"Yoga\", \"Pilates\", \"Stretching\"]\n",
    "        }\n",
    "        if exercise_type in exercises:\n",
    "            response = f\"Here are some exercises for {exercise_type}:\\n\" + \", \".join(exercises[exercise_type])\n",
    "        else:\n",
    "            response = \"I'm sorry, I didn't understand that. Please specify Cardio, Strength training, or Flexibility.\"\n",
    "        return response\n",
    "\n",
    "    def calculate_bmi(self, weight, height):\n",
    "        height_in_m = height / 100\n",
    "        bmi = weight / (height_in_m ** 2)\n",
    "        return round(bmi, 2)\n",
    "\n",
    "    def calculate_tdee(self, weight, height, age, gender, activity_level):\n",
    "        if gender.lower() == 'male':\n",
    "            bmr = 88.362 + (13.397 * weight) + (4.799 * height) - (5.677 * age)\n",
    "        else:\n",
    "            bmr = 447.593 + (9.247 * weight) + (3.098 * height) - (4.330 * age)\n",
    "        \n",
    "        activity_multipliers = {\n",
    "            'sedentary': 1.2,\n",
    "            'lightly active': 1.375,\n",
    "            'moderately active': 1.55,\n",
    "            'very active': 1.725,\n",
    "            'super active': 1.9\n",
    "        }\n",
    "        \n",
    "        tdee = bmr * activity_multipliers.get(activity_level.lower(), 1.2)\n",
    "        return round(tdee, 2)\n",
    "\n",
    "if __name__ == \"__main__\":\n",
    "    nut_api_key = '013f9996d6mshce02980674b8574p16e5d1jsne655c82f3fde'  # Replace with your Nutrition API key\n",
    "    fitness_advisor = FitnessAdvisor(nut_api_key)\n",
    "\n",
    "    # Interactive CLI loop\n",
    "    print(\"Welcome to the Fitness Advisor Chatbot! Type 'exit' or 'quit' to end the session.\")\n",
    "    while True:\n",
    "        user_query = input(\"User: \").strip().lower()\n",
    "        if user_query in [\"exit\", \"quit\"]:\n",
    "            print(\"Fitness Advisor: Goodbye!\")\n",
    "            break\n",
    "        \n",
    "        response = fitness_advisor.handle_query(user_query)\n",
    "        print(f\"Fitness Advisor: {response}\")\n",
    "\n",
    "        if response.startswith(\"Here is\") or \"recommendation\" in user_query:\n",
    "            feedback = input(\"Was this response helpful? (Y/N): \").strip().lower()\n",
    "            if feedback == \"y\":\n",
    "                print(\"Thank you for your feedback!\")\n",
    "            elif feedback == \"n\":\n",
    "                print(\"We'll work on improving our responses. Thank you for letting us know.\")\n",
    "\n",
    "        print()  \n"
   ]
  },
  {
   "cell_type": "code",
   "execution_count": null,
   "id": "aecf3a36-e15e-4b5f-bc6b-241e8219b6b9",
   "metadata": {},
   "outputs": [],
   "source": []
  }
 ],
 "metadata": {
  "kernelspec": {
   "display_name": "Python 3 (ipykernel)",
   "language": "python",
   "name": "python3"
  },
  "language_info": {
   "codemirror_mode": {
    "name": "ipython",
    "version": 3
   },
   "file_extension": ".py",
   "mimetype": "text/x-python",
   "name": "python",
   "nbconvert_exporter": "python",
   "pygments_lexer": "ipython3",
   "version": "3.11.5"
  }
 },
 "nbformat": 4,
 "nbformat_minor": 5
}
