{
 "cells": [
  {
   "cell_type": "code",
   "execution_count": 8,
   "id": "0e9c58c3-fedd-4586-b0e4-6fcc0f2f5894",
   "metadata": {},
   "outputs": [
    {
     "name": "stdout",
     "output_type": "stream",
     "text": [
      "Nutritional Information for Apple:\n",
      "{'name': 'apple', 'fat_total_g': 0.2, 'fat_saturated_g': 0.0, 'sodium_mg': 1, 'potassium_mg': 11, 'cholesterol_mg': 0, 'carbohydrates_total_g': 14.1, 'fiber_g': 2.4, 'sugar_g': 10.3}\n",
      "Heart Rate Zones for a fit person aged 30:\n",
      "Fat_burning: 123.5 bpm\n",
      "Cardio: 142.5 bpm\n",
      "Peak: 171.0 bpm\n",
      "Welcome to the Fitness Advisor Chatbot! Type 'exit' or 'quit' to end the session.\n"
     ]
    },
    {
     "name": "stdin",
     "output_type": "stream",
     "text": [
      "User:  Hello\n"
     ]
    },
    {
     "name": "stdout",
     "output_type": "stream",
     "text": [
      "Fitness Advisor: Hello! How can I help you with your fitness today?\n",
      "\n"
     ]
    },
    {
     "name": "stdin",
     "output_type": "stream",
     "text": [
      "User:  Nutrition for apple\n"
     ]
    },
    {
     "name": "stdout",
     "output_type": "stream",
     "text": [
      "Fitness Advisor: Here is the nutritional information for Apple:\n",
      "Apple: Fat: 0.2g, Carbs: 14.1g, Protein: Only available for premium subscribers.g\n",
      "\n"
     ]
    },
    {
     "name": "stdin",
     "output_type": "stream",
     "text": [
      "Was this response helpful? (Y/N):  Y\n"
     ]
    },
    {
     "name": "stdout",
     "output_type": "stream",
     "text": [
      "Thank you for your feedback!\n",
      "\n"
     ]
    },
    {
     "name": "stdin",
     "output_type": "stream",
     "text": [
      "User:  exit\n"
     ]
    },
    {
     "name": "stdout",
     "output_type": "stream",
     "text": [
      "Fitness Advisor: Goodbye!\n"
     ]
    }
   ],
   "source": [
    "%run Fitnessbot.ipynb\n",
    "\n",
    "\n",
    "\n",
    "\n"
   ]
  },
  {
   "cell_type": "code",
   "execution_count": 15,
   "id": "d83465d6-5d43-472c-ae93-11938b5a9b1c",
   "metadata": {},
   "outputs": [
    {
     "name": "stdout",
     "output_type": "stream",
     "text": [
      "All test cases passed!\n"
     ]
    }
   ],
   "source": [
    "\n",
    "nut_api_key = '013f9996d6mshce02980674b8574p16e5d1jsne655c82f3fde'  # Replace with your Nutrition API key\n",
    "fitness_advisor = FitnessAdvisor(nut_api_key)\n",
    "\n",
    "\n",
    "def test_fitness_advisor_responses():\n",
    "    # Test nutrition information for banana\n",
    "    response = fitness_advisor.handle_query(\"nutrition for banana\")\n",
    "    assert \"Here is the nutritional information for Banana:\" in response\n",
    "    assert \"Fat: \" in response\n",
    "    assert \"Carbs: \" in response\n",
    "    assert \"Protein: \" in response\n",
    "    \n",
    "    # Test exercise recommendations\n",
    "    response = fitness_advisor.handle_query(\"exercise recommendations\")\n",
    "    assert \"What type of exercise are you interested in?\" in response\n",
    "    \n",
    "    # Test BMI calculation query\n",
    "    response = fitness_advisor.handle_query(\"calculate BMI 70 175\")\n",
    "    assert \"Your BMI is\" in response\n",
    "    \n",
    "    \n",
    "    \n",
    "    print(\"All test cases passed!\")\n",
    "\n",
    "# Run the test function\n",
    "test_fitness_advisor_responses()\n"
   ]
  },
  {
   "cell_type": "code",
   "execution_count": null,
   "id": "c6632cc6-e458-4238-b6bf-272a70e67d21",
   "metadata": {},
   "outputs": [],
   "source": []
  }
 ],
 "metadata": {
  "kernelspec": {
   "display_name": "Python 3 (ipykernel)",
   "language": "python",
   "name": "python3"
  },
  "language_info": {
   "codemirror_mode": {
    "name": "ipython",
    "version": 3
   },
   "file_extension": ".py",
   "mimetype": "text/x-python",
   "name": "python",
   "nbconvert_exporter": "python",
   "pygments_lexer": "ipython3",
   "version": "3.11.5"
  }
 },
 "nbformat": 4,
 "nbformat_minor": 5
}
